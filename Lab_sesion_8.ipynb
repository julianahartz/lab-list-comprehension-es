{
  "cells": [
    {
      "cell_type": "markdown",
      "metadata": {
        "id": "TYRBycTJTzMx"
      },
      "source": [
        "# Functions"
      ]
    },
    {
      "cell_type": "markdown",
      "metadata": {
        "id": "sjOGI2XtTzMz"
      },
      "source": [
        "En este laboratorio pondremos en práctica algunos de los conceptos que hemos aprendido en los últimos días.\n",
        "\n",
        "`NOTA: En este laboratorio deberías intentar escribir todas las funciones por ti mismo utilizando solo la sintaxis más básica de Python y sin funciones como len, count, sum, max, min, in, etc. Dale una oportunidad. 🧑🏻‍💻👩🏻‍💻`\n",
        "\n",
        "La celda después de cada ejercicio contiene algunas pruebas para verificar si tu función funciona como se espera."
      ]
    },
    {
      "cell_type": "code",
      "execution_count": 2,
      "metadata": {
        "colab": {
          "base_uri": "https://localhost:8080/",
          "height": 332
        },
        "id": "mcpGEAJpTzM0",
        "outputId": "02f9283d-da5b-4ad0-ad84-91330ade2212"
      },
      "outputs": [
        {
          "output_type": "error",
          "ename": "ModuleNotFoundError",
          "evalue": "No module named 'mod'",
          "traceback": [
            "\u001b[0;31m---------------------------------------------------------------------------\u001b[0m",
            "\u001b[0;31mModuleNotFoundError\u001b[0m                       Traceback (most recent call last)",
            "\u001b[0;32m<ipython-input-2-a57a86624ec9>\u001b[0m in \u001b[0;36m<cell line: 0>\u001b[0;34m()\u001b[0m\n\u001b[0;32m----> 1\u001b[0;31m \u001b[0;32mfrom\u001b[0m \u001b[0mmod\u001b[0m\u001b[0;34m.\u001b[0m\u001b[0mtesting\u001b[0m \u001b[0;32mimport\u001b[0m \u001b[0;34m*\u001b[0m\u001b[0;34m\u001b[0m\u001b[0;34m\u001b[0m\u001b[0m\n\u001b[0m\u001b[1;32m      2\u001b[0m \u001b[0;32mimport\u001b[0m \u001b[0munittest\u001b[0m\u001b[0;34m\u001b[0m\u001b[0;34m\u001b[0m\u001b[0m\n",
            "\u001b[0;31mModuleNotFoundError\u001b[0m: No module named 'mod'",
            "",
            "\u001b[0;31m---------------------------------------------------------------------------\u001b[0;32m\nNOTE: If your import is failing due to a missing package, you can\nmanually install dependencies using either !pip or !apt.\n\nTo view examples of installing some common dependencies, click the\n\"Open Examples\" button below.\n\u001b[0;31m---------------------------------------------------------------------------\u001b[0m\n"
          ],
          "errorDetails": {
            "actions": [
              {
                "action": "open_url",
                "actionText": "Open Examples",
                "url": "/notebooks/snippets/importing_libraries.ipynb"
              }
            ]
          }
        }
      ],
      "source": [
        "from mod.testing import *\n",
        "import unittest"
      ]
    },
    {
      "cell_type": "markdown",
      "metadata": {
        "id": "qvI7OqIwTzM1"
      },
      "source": [
        "## 1. Escribe una función que devuelva el mayor de dos números"
      ]
    },
    {
      "cell_type": "code",
      "execution_count": 3,
      "metadata": {
        "id": "F8j0Yr6BTzM2"
      },
      "outputs": [],
      "source": [
        "def greater(a, b):\n",
        "    if a > b:\n",
        "        return a\n",
        "    return b"
      ]
    },
    {
      "cell_type": "code",
      "execution_count": 4,
      "metadata": {
        "colab": {
          "base_uri": "https://localhost:8080/",
          "height": 158
        },
        "id": "nHAAdkAlTzM3",
        "outputId": "a1cfaef4-8c16-43f2-b541-8ca6d872c12c"
      },
      "outputs": [
        {
          "output_type": "error",
          "ename": "NameError",
          "evalue": "name 'test_greater' is not defined",
          "traceback": [
            "\u001b[0;31m---------------------------------------------------------------------------\u001b[0m",
            "\u001b[0;31mNameError\u001b[0m                                 Traceback (most recent call last)",
            "\u001b[0;32m<ipython-input-4-4710f16d0473>\u001b[0m in \u001b[0;36m<cell line: 0>\u001b[0;34m()\u001b[0m\n\u001b[1;32m      1\u001b[0m \u001b[0;31m# Para testear tu función\u001b[0m\u001b[0;34m\u001b[0m\u001b[0;34m\u001b[0m\u001b[0m\n\u001b[0;32m----> 2\u001b[0;31m \u001b[0mtest_greater\u001b[0m\u001b[0;34m(\u001b[0m\u001b[0mgreater\u001b[0m\u001b[0;34m)\u001b[0m\u001b[0;34m\u001b[0m\u001b[0;34m\u001b[0m\u001b[0m\n\u001b[0m",
            "\u001b[0;31mNameError\u001b[0m: name 'test_greater' is not defined"
          ]
        }
      ],
      "source": [
        "# Para testear tu función\n",
        "test_greater(greater)"
      ]
    },
    {
      "cell_type": "markdown",
      "metadata": {
        "id": "Eilyag1BTzM3"
      },
      "source": [
        "## 2. Ahora escribe una función que devuelva el elemento más"
      ]
    },
    {
      "cell_type": "code",
      "execution_count": 5,
      "metadata": {
        "id": "p791udeuTzM4"
      },
      "outputs": [],
      "source": [
        "def greatest(lista):\n",
        "    if not lista:  # Si la lista está vacía, devolver None\n",
        "        return None\n",
        "\n",
        "    max_elemento = lista[0]  # Empezamos asumiendo que el primer número es el mayor\n",
        "    for num in lista:  # Recorremos la lista\n",
        "        if num > max_elemento:  # Si encontramos un número mayor\n",
        "            max_elemento = num  # Actualizamos el mayor\n",
        "    return max_elemento"
      ]
    },
    {
      "cell_type": "code",
      "execution_count": 6,
      "metadata": {
        "colab": {
          "base_uri": "https://localhost:8080/",
          "height": 158
        },
        "id": "y-LCZTSqTzM4",
        "outputId": "a9938702-0d65-446a-9052-ff6fe324280c"
      },
      "outputs": [
        {
          "output_type": "error",
          "ename": "NameError",
          "evalue": "name 'test_greatest' is not defined",
          "traceback": [
            "\u001b[0;31m---------------------------------------------------------------------------\u001b[0m",
            "\u001b[0;31mNameError\u001b[0m                                 Traceback (most recent call last)",
            "\u001b[0;32m<ipython-input-6-9d54472c9e3b>\u001b[0m in \u001b[0;36m<cell line: 0>\u001b[0;34m()\u001b[0m\n\u001b[1;32m      1\u001b[0m \u001b[0;31m# Para testear tu función\u001b[0m\u001b[0;34m\u001b[0m\u001b[0;34m\u001b[0m\u001b[0m\n\u001b[0;32m----> 2\u001b[0;31m \u001b[0mtest_greatest\u001b[0m\u001b[0;34m(\u001b[0m\u001b[0mgreatest\u001b[0m\u001b[0;34m)\u001b[0m\u001b[0;34m\u001b[0m\u001b[0;34m\u001b[0m\u001b[0m\n\u001b[0m",
            "\u001b[0;31mNameError\u001b[0m: name 'test_greatest' is not defined"
          ]
        }
      ],
      "source": [
        "# Para testear tu función\n",
        "test_greatest(greatest)"
      ]
    },
    {
      "cell_type": "markdown",
      "metadata": {
        "id": "8J3L4m5TTzM5"
      },
      "source": [
        "## 3. Escribe una función que sume todos los elementos de una lista"
      ]
    },
    {
      "cell_type": "code",
      "execution_count": 7,
      "metadata": {
        "id": "GphsKP2pTzM5"
      },
      "outputs": [],
      "source": [
        "def sum_all(lst):\n",
        "    total = 0\n",
        "    for num in lst:\n",
        "        total += num\n",
        "    return total"
      ]
    },
    {
      "cell_type": "code",
      "execution_count": 8,
      "metadata": {
        "scrolled": true,
        "colab": {
          "base_uri": "https://localhost:8080/",
          "height": 158
        },
        "id": "RLWJb1SZTzM5",
        "outputId": "8c0af562-5d96-4a02-97ac-e7161f9f1113"
      },
      "outputs": [
        {
          "output_type": "error",
          "ename": "NameError",
          "evalue": "name 'test_sum' is not defined",
          "traceback": [
            "\u001b[0;31m---------------------------------------------------------------------------\u001b[0m",
            "\u001b[0;31mNameError\u001b[0m                                 Traceback (most recent call last)",
            "\u001b[0;32m<ipython-input-8-ec0be9442e37>\u001b[0m in \u001b[0;36m<cell line: 0>\u001b[0;34m()\u001b[0m\n\u001b[1;32m      1\u001b[0m \u001b[0;31m# Para testear tu función\u001b[0m\u001b[0;34m\u001b[0m\u001b[0;34m\u001b[0m\u001b[0m\n\u001b[0;32m----> 2\u001b[0;31m \u001b[0mtest_sum\u001b[0m\u001b[0;34m(\u001b[0m\u001b[0msum_all\u001b[0m\u001b[0;34m)\u001b[0m\u001b[0;34m\u001b[0m\u001b[0;34m\u001b[0m\u001b[0m\n\u001b[0m",
            "\u001b[0;31mNameError\u001b[0m: name 'test_sum' is not defined"
          ]
        }
      ],
      "source": [
        "# Para testear tu función\n",
        "test_sum(sum_all)"
      ]
    },
    {
      "cell_type": "markdown",
      "metadata": {
        "id": "2p5rJqfuTzM5"
      },
      "source": [
        "## 4. Escribe otra función que multiplique todos los elementos de una lista"
      ]
    },
    {
      "cell_type": "code",
      "execution_count": 9,
      "metadata": {
        "id": "ohu8WoOxTzM6"
      },
      "outputs": [],
      "source": [
        "def multiply_all(lst):\n",
        "    result = 1\n",
        "    for num in lst:\n",
        "        result *= num\n",
        "    return result"
      ]
    },
    {
      "cell_type": "code",
      "execution_count": 10,
      "metadata": {
        "scrolled": true,
        "colab": {
          "base_uri": "https://localhost:8080/",
          "height": 158
        },
        "id": "6JhcasxdTzM6",
        "outputId": "96148d6f-637c-4b16-b20e-d27a1f19c362"
      },
      "outputs": [
        {
          "output_type": "error",
          "ename": "NameError",
          "evalue": "name 'test_mult' is not defined",
          "traceback": [
            "\u001b[0;31m---------------------------------------------------------------------------\u001b[0m",
            "\u001b[0;31mNameError\u001b[0m                                 Traceback (most recent call last)",
            "\u001b[0;32m<ipython-input-10-410ef7c1dbff>\u001b[0m in \u001b[0;36m<cell line: 0>\u001b[0;34m()\u001b[0m\n\u001b[1;32m      1\u001b[0m \u001b[0;31m# Para testear tu función\u001b[0m\u001b[0;34m\u001b[0m\u001b[0;34m\u001b[0m\u001b[0m\n\u001b[0;32m----> 2\u001b[0;31m \u001b[0mtest_mult\u001b[0m\u001b[0;34m(\u001b[0m\u001b[0mmultiply_all\u001b[0m\u001b[0;34m)\u001b[0m\u001b[0;34m\u001b[0m\u001b[0;34m\u001b[0m\u001b[0m\n\u001b[0m",
            "\u001b[0;31mNameError\u001b[0m: name 'test_mult' is not defined"
          ]
        }
      ],
      "source": [
        "# Para testear tu función\n",
        "test_mult(multiply_all)"
      ]
    },
    {
      "cell_type": "markdown",
      "metadata": {
        "id": "2Cc9pNmaTzM6"
      },
      "source": [
        "## 5. Ahora combina esas dos ideas y escribe una función que reciba una lista y ya sea \"+\" o \"*\", y produzca el resultado acorde"
      ]
    },
    {
      "cell_type": "code",
      "execution_count": 11,
      "metadata": {
        "id": "rpoy-etnTzM6"
      },
      "outputs": [],
      "source": [
        "def oper_all(lst, operator):\n",
        "    result = 0 if operator == \"+\" else 1  # Inicia en 0 para suma, en 1 para multiplicación\n",
        "    for num in lst:\n",
        "        if operator == \"+\":\n",
        "            result += num\n",
        "        elif operator == \"*\":\n",
        "            result *= num\n",
        "    return result"
      ]
    },
    {
      "cell_type": "code",
      "execution_count": 12,
      "metadata": {
        "colab": {
          "base_uri": "https://localhost:8080/",
          "height": 158
        },
        "id": "5IJ_g07-TzM6",
        "outputId": "19558344-c752-499a-c9fc-e18216fd2609"
      },
      "outputs": [
        {
          "output_type": "error",
          "ename": "NameError",
          "evalue": "name 'test_operations' is not defined",
          "traceback": [
            "\u001b[0;31m---------------------------------------------------------------------------\u001b[0m",
            "\u001b[0;31mNameError\u001b[0m                                 Traceback (most recent call last)",
            "\u001b[0;32m<ipython-input-12-f33a128495c3>\u001b[0m in \u001b[0;36m<cell line: 0>\u001b[0;34m()\u001b[0m\n\u001b[1;32m      1\u001b[0m \u001b[0;31m# Para testear tu función\u001b[0m\u001b[0;34m\u001b[0m\u001b[0;34m\u001b[0m\u001b[0m\n\u001b[0;32m----> 2\u001b[0;31m \u001b[0mtest_operations\u001b[0m\u001b[0;34m(\u001b[0m\u001b[0moper_all\u001b[0m\u001b[0;34m)\u001b[0m\u001b[0;34m\u001b[0m\u001b[0;34m\u001b[0m\u001b[0m\n\u001b[0m",
            "\u001b[0;31mNameError\u001b[0m: name 'test_operations' is not defined"
          ]
        }
      ],
      "source": [
        "# Para testear tu función\n",
        "test_operations(oper_all)"
      ]
    },
    {
      "cell_type": "markdown",
      "metadata": {
        "id": "U39DaNDzTzM7"
      },
      "source": [
        "## 6. Escribe una función que devuelva el factorial de un número."
      ]
    },
    {
      "cell_type": "code",
      "execution_count": 13,
      "metadata": {
        "id": "006WEBKzTzM7"
      },
      "outputs": [],
      "source": [
        "def factorial(n):\n",
        "    result = 1\n",
        "    while n > 1:\n",
        "        result *= n\n",
        "        n -= 1\n",
        "    return result"
      ]
    },
    {
      "cell_type": "code",
      "execution_count": null,
      "metadata": {
        "id": "m1qPfN5fTzM7"
      },
      "outputs": [],
      "source": [
        "# Fórmula factorial\n",
        "# n! = n * (n - 1) *...*1\n",
        "\n",
        "# Este código define una función llamada \"factorial\" que toma una entrada \"n\". La función utiliza un bucle for para iterar a través del rango de números\n",
        "# desde 1 hasta n+1. Para cada número en ese rango, multiplica el valor actual de x por el número en el rango. Al final del bucle,\n",
        "# la función devuelve el valor final de x, que será el factorial del número de entrada \"n\".\n",
        "\n",
        "# El factorial de un entero positivo n es el producto de todos los enteros positivos menores o iguales a n.\n",
        "# Por ejemplo, el factorial de 6 (escrito \"6!\") es 6 * 5 * 4 * 3 * 2 * 1 = 720.\n",
        "\n",
        "# Así que esta función toma una entrada de cualquier entero positivo y devuelve el factorial de ese número."
      ]
    },
    {
      "cell_type": "code",
      "execution_count": 14,
      "metadata": {
        "colab": {
          "base_uri": "https://localhost:8080/",
          "height": 158
        },
        "id": "LlQdCJbNTzM7",
        "outputId": "0dd021f0-98cb-45ba-a773-6387b20b7b63"
      },
      "outputs": [
        {
          "output_type": "error",
          "ename": "NameError",
          "evalue": "name 'test_factorial' is not defined",
          "traceback": [
            "\u001b[0;31m---------------------------------------------------------------------------\u001b[0m",
            "\u001b[0;31mNameError\u001b[0m                                 Traceback (most recent call last)",
            "\u001b[0;32m<ipython-input-14-d87162e86189>\u001b[0m in \u001b[0;36m<cell line: 0>\u001b[0;34m()\u001b[0m\n\u001b[1;32m      1\u001b[0m \u001b[0;31m# This will test your function\u001b[0m\u001b[0;34m\u001b[0m\u001b[0;34m\u001b[0m\u001b[0m\n\u001b[0;32m----> 2\u001b[0;31m \u001b[0mtest_factorial\u001b[0m\u001b[0;34m(\u001b[0m\u001b[0mfactorial\u001b[0m\u001b[0;34m)\u001b[0m\u001b[0;34m\u001b[0m\u001b[0;34m\u001b[0m\u001b[0m\n\u001b[0m",
            "\u001b[0;31mNameError\u001b[0m: name 'test_factorial' is not defined"
          ]
        }
      ],
      "source": [
        "# This will test your function\n",
        "test_factorial(factorial)"
      ]
    },
    {
      "cell_type": "markdown",
      "metadata": {
        "id": "JcVwCV65TzM7"
      },
      "source": [
        "## 7. Escribe una función que tome una lista y devuelva una lista de los valores únicos.\n",
        "\n",
        "`NOTE: No podemos usar set. 🤔`"
      ]
    },
    {
      "cell_type": "code",
      "execution_count": 15,
      "metadata": {
        "id": "xWp0l6-qTzM7"
      },
      "outputs": [],
      "source": [
        "def unique_values(lst):\n",
        "    unique_lst = []\n",
        "    for item in lst:\n",
        "        is_duplicate = False\n",
        "        for unique in unique_lst:\n",
        "            if item == unique:\n",
        "                is_duplicate = True\n",
        "                break\n",
        "        if not is_duplicate:\n",
        "            unique_lst.append(item)\n",
        "    return unique_lst"
      ]
    },
    {
      "cell_type": "code",
      "execution_count": 16,
      "metadata": {
        "colab": {
          "base_uri": "https://localhost:8080/",
          "height": 158
        },
        "id": "nm_xw2p-TzM8",
        "outputId": "ee2689c4-4579-4171-fe15-aa30221df1d1"
      },
      "outputs": [
        {
          "output_type": "error",
          "ename": "NameError",
          "evalue": "name 'test_unique' is not defined",
          "traceback": [
            "\u001b[0;31m---------------------------------------------------------------------------\u001b[0m",
            "\u001b[0;31mNameError\u001b[0m                                 Traceback (most recent call last)",
            "\u001b[0;32m<ipython-input-16-c3055777a59f>\u001b[0m in \u001b[0;36m<cell line: 0>\u001b[0;34m()\u001b[0m\n\u001b[1;32m      1\u001b[0m \u001b[0;31m# Para testear tu función\u001b[0m\u001b[0;34m\u001b[0m\u001b[0;34m\u001b[0m\u001b[0m\n\u001b[0;32m----> 2\u001b[0;31m \u001b[0mtest_unique\u001b[0m\u001b[0;34m(\u001b[0m\u001b[0munique_values\u001b[0m\u001b[0;34m)\u001b[0m\u001b[0;34m\u001b[0m\u001b[0;34m\u001b[0m\u001b[0m\n\u001b[0m",
            "\u001b[0;31mNameError\u001b[0m: name 'test_unique' is not defined"
          ]
        }
      ],
      "source": [
        "# Para testear tu función\n",
        "test_unique(unique_values)"
      ]
    },
    {
      "cell_type": "markdown",
      "metadata": {
        "id": "4up31U6VTzM8"
      },
      "source": [
        "## 8. Escribe una función que devuelva la moda de una lista, es decir: el elemento que aparece más veces.\n",
        "\n",
        "`NOTE: No se debe usar count... 🧐`"
      ]
    },
    {
      "cell_type": "code",
      "execution_count": 17,
      "metadata": {
        "id": "Kyz6gImWTzM8"
      },
      "outputs": [],
      "source": [
        "def mode(lst):\n",
        "    frequency = []\n",
        "    elements = []\n",
        "\n",
        "    for item in lst:\n",
        "        index = -1\n",
        "        for i in range(len(elements)):  # Buscar si el elemento ya está registrado\n",
        "            if elements[i] == item:\n",
        "                index = i\n",
        "                break\n",
        "\n",
        "        if index == -1:  # Si el elemento no está en la lista de elementos únicos\n",
        "            elements.append(item)\n",
        "            frequency.append(1)\n",
        "        else:  # Si el elemento ya está en la lista\n",
        "            frequency[index] += 1\n",
        "\n",
        "    # Encontrar el elemento con la mayor frecuencia\n",
        "    max_freq = 0\n",
        "    moda = None\n",
        "    for i in range(len(frequency)):\n",
        "        if frequency[i] > max_freq:\n",
        "            max_freq = frequency[i]\n",
        "            moda = elements[i]\n",
        "\n",
        "    return moda"
      ]
    },
    {
      "cell_type": "code",
      "execution_count": 18,
      "metadata": {
        "colab": {
          "base_uri": "https://localhost:8080/",
          "height": 158
        },
        "id": "U_g91kyeTzM8",
        "outputId": "2c43d340-b41f-47b4-9b5e-51d2aa3b730b"
      },
      "outputs": [
        {
          "output_type": "error",
          "ename": "NameError",
          "evalue": "name 'test_mode' is not defined",
          "traceback": [
            "\u001b[0;31m---------------------------------------------------------------------------\u001b[0m",
            "\u001b[0;31mNameError\u001b[0m                                 Traceback (most recent call last)",
            "\u001b[0;32m<ipython-input-18-b3561014d0c5>\u001b[0m in \u001b[0;36m<cell line: 0>\u001b[0;34m()\u001b[0m\n\u001b[1;32m      1\u001b[0m \u001b[0;31m# Para testear tu función\u001b[0m\u001b[0;34m\u001b[0m\u001b[0;34m\u001b[0m\u001b[0m\n\u001b[0;32m----> 2\u001b[0;31m \u001b[0mtest_mode\u001b[0m\u001b[0;34m(\u001b[0m\u001b[0mmode\u001b[0m\u001b[0;34m)\u001b[0m\u001b[0;34m\u001b[0m\u001b[0;34m\u001b[0m\u001b[0m\n\u001b[0m",
            "\u001b[0;31mNameError\u001b[0m: name 'test_mode' is not defined"
          ]
        }
      ],
      "source": [
        "# Para testear tu función\n",
        "test_mode(mode)"
      ]
    },
    {
      "cell_type": "markdown",
      "metadata": {
        "id": "VBE6WNZPTzM8"
      },
      "source": [
        "## 9. Escribe una función que calcule la desviación estándar de una lista.\n",
        "`NOTE: no utilices librerías ni ninguna función ya construida. 😉`"
      ]
    },
    {
      "cell_type": "code",
      "execution_count": 19,
      "metadata": {
        "id": "9AS87kbYTzM8"
      },
      "outputs": [],
      "source": [
        "def desviacion_estandar(lista):\n",
        "    # Verificar si la lista está vacía\n",
        "    if len(lista) == 0:\n",
        "        return None  # Si la lista está vacía, retornamos None\n",
        "\n",
        "    # Calcular la media\n",
        "    suma = 0\n",
        "    for num in lista:\n",
        "        suma += num\n",
        "    media = suma / len(lista)\n",
        "\n",
        "    # Calcular la varianza\n",
        "    suma_cuadrados = 0\n",
        "    for num in lista:\n",
        "        suma_cuadrados += (num - media) ** 2\n",
        "    varianza = suma_cuadrados / len(lista)\n",
        "\n",
        "    # Calcular la desviación estándar (raíz cuadrada de la varianza)\n",
        "    desviacion = varianza ** 0.5\n",
        "\n",
        "    return desviacion"
      ]
    },
    {
      "cell_type": "code",
      "execution_count": 20,
      "metadata": {
        "colab": {
          "base_uri": "https://localhost:8080/",
          "height": 158
        },
        "id": "EHouCxBzTzM8",
        "outputId": "ca4999d4-babb-4117-b7af-8acdabce1b18"
      },
      "outputs": [
        {
          "output_type": "error",
          "ename": "NameError",
          "evalue": "name 'test_stdev' is not defined",
          "traceback": [
            "\u001b[0;31m---------------------------------------------------------------------------\u001b[0m",
            "\u001b[0;31mNameError\u001b[0m                                 Traceback (most recent call last)",
            "\u001b[0;32m<ipython-input-20-9d569b337932>\u001b[0m in \u001b[0;36m<cell line: 0>\u001b[0;34m()\u001b[0m\n\u001b[1;32m      1\u001b[0m \u001b[0;31m# Para testear tu función\u001b[0m\u001b[0;34m\u001b[0m\u001b[0;34m\u001b[0m\u001b[0m\n\u001b[0;32m----> 2\u001b[0;31m \u001b[0mtest_stdev\u001b[0m\u001b[0;34m(\u001b[0m\u001b[0mdesviacion_estandar\u001b[0m\u001b[0;34m)\u001b[0m\u001b[0;34m\u001b[0m\u001b[0;34m\u001b[0m\u001b[0m\n\u001b[0m",
            "\u001b[0;31mNameError\u001b[0m: name 'test_stdev' is not defined"
          ]
        }
      ],
      "source": [
        "# Para testear tu función\n",
        "test_stdev(desviacion_estandar)"
      ]
    },
    {
      "cell_type": "markdown",
      "metadata": {
        "id": "HIuq3ZLkTzM9"
      },
      "source": [
        "## 10. Escribe una función para verificar si una cadena es un pangrama, es decir: si contiene todas las letras del alfabeto al menos una vez. Ten en cuenta que las cadenas pueden contener caracteres que no son letras."
      ]
    },
    {
      "cell_type": "code",
      "execution_count": 21,
      "metadata": {
        "id": "d9-uwXGdTzM9"
      },
      "outputs": [],
      "source": [
        "def es_pangrama(cadena):\n",
        "    # Definir el alfabeto\n",
        "    alfabeto = \"abcdefghijklmnopqrstuvwxyz\"\n",
        "\n",
        "    # Convertir la cadena a minúsculas para no distinguir entre mayúsculas y minúsculas\n",
        "    cadena = cadena.lower()\n",
        "\n",
        "    # Comprobar si todas las letras del alfabeto están en la cadena\n",
        "    for letra in alfabeto:\n",
        "        if letra not in cadena:\n",
        "            return False\n",
        "\n",
        "    return True"
      ]
    },
    {
      "cell_type": "code",
      "execution_count": 22,
      "metadata": {
        "colab": {
          "base_uri": "https://localhost:8080/",
          "height": 158
        },
        "id": "W-45s0bMTzM9",
        "outputId": "2c3da621-54ac-4519-a905-610e3846bbc0"
      },
      "outputs": [
        {
          "output_type": "error",
          "ename": "NameError",
          "evalue": "name 'test_pangram' is not defined",
          "traceback": [
            "\u001b[0;31m---------------------------------------------------------------------------\u001b[0m",
            "\u001b[0;31mNameError\u001b[0m                                 Traceback (most recent call last)",
            "\u001b[0;32m<ipython-input-22-c01cb6124978>\u001b[0m in \u001b[0;36m<cell line: 0>\u001b[0;34m()\u001b[0m\n\u001b[1;32m      1\u001b[0m \u001b[0;31m# Para testear tu función\u001b[0m\u001b[0;34m\u001b[0m\u001b[0;34m\u001b[0m\u001b[0m\n\u001b[0;32m----> 2\u001b[0;31m \u001b[0mtest_pangram\u001b[0m\u001b[0;34m(\u001b[0m\u001b[0mes_pangrama\u001b[0m\u001b[0;34m)\u001b[0m\u001b[0;34m\u001b[0m\u001b[0;34m\u001b[0m\u001b[0m\n\u001b[0m",
            "\u001b[0;31mNameError\u001b[0m: name 'test_pangram' is not defined"
          ]
        }
      ],
      "source": [
        "# Para testear tu función\n",
        "test_pangram(es_pangrama)"
      ]
    },
    {
      "cell_type": "markdown",
      "metadata": {
        "id": "JbWJUB6vTzM9"
      },
      "source": [
        "## 11. Escribe una función que reciba una cadena de palabras separadas por comas y devuelva una cadena de palabras separadas por comas ordenadas alfabéticamente.\n",
        "\n",
        "`NOTA: Puedes usar sorted pero no split y definitivamente no join! 🤪`"
      ]
    },
    {
      "cell_type": "code",
      "execution_count": 23,
      "metadata": {
        "id": "0z6uFz0VTzM9"
      },
      "outputs": [],
      "source": [
        "def ordenar_palabras(cadena):\n",
        "    # Crear una lista vacía para almacenar las palabras\n",
        "    palabras = []\n",
        "    palabra = \"\"\n",
        "\n",
        "    # Recorrer cada carácter de la cadena\n",
        "    for char in cadena:\n",
        "        if char == ',':\n",
        "            # Cuando encontramos una coma, agregamos la palabra a la lista\n",
        "            palabras.append(palabra)\n",
        "            palabra = \"\"  # Resetear la variable 'palabra' para la siguiente palabra\n",
        "        else:\n",
        "            palabra += char  # Agregar el carácter a la palabra actual\n",
        "\n",
        "    # Agregar la última palabra (ya que no termina en coma)\n",
        "    if palabra:\n",
        "        palabras.append(palabra)\n",
        "\n",
        "    # Ordenar las palabras alfabéticamente\n",
        "    palabras_ordenadas = sorted(palabras)\n",
        "\n",
        "    # Reconstruir la cadena con las palabras ordenadas\n",
        "    resultado = \"\"\n",
        "    for i, palabra in enumerate(palabras_ordenadas):\n",
        "        if i > 0:\n",
        "            resultado += \",\"\n",
        "        resultado += palabra\n",
        "\n",
        "    return resultado"
      ]
    },
    {
      "cell_type": "code",
      "execution_count": 24,
      "metadata": {
        "colab": {
          "base_uri": "https://localhost:8080/",
          "height": 158
        },
        "id": "gjtheOrUTzM9",
        "outputId": "238c1025-0e6d-47d0-8594-bdadeb14ab36"
      },
      "outputs": [
        {
          "output_type": "error",
          "ename": "NameError",
          "evalue": "name 'test_alpha' is not defined",
          "traceback": [
            "\u001b[0;31m---------------------------------------------------------------------------\u001b[0m",
            "\u001b[0;31mNameError\u001b[0m                                 Traceback (most recent call last)",
            "\u001b[0;32m<ipython-input-24-397039e556c6>\u001b[0m in \u001b[0;36m<cell line: 0>\u001b[0;34m()\u001b[0m\n\u001b[1;32m      1\u001b[0m \u001b[0;31m# Para testear tu función\u001b[0m\u001b[0;34m\u001b[0m\u001b[0;34m\u001b[0m\u001b[0m\n\u001b[0;32m----> 2\u001b[0;31m \u001b[0mtest_alpha\u001b[0m\u001b[0;34m(\u001b[0m\u001b[0mordenar_palabras\u001b[0m\u001b[0;34m)\u001b[0m\u001b[0;34m\u001b[0m\u001b[0;34m\u001b[0m\u001b[0m\n\u001b[0m",
            "\u001b[0;31mNameError\u001b[0m: name 'test_alpha' is not defined"
          ]
        }
      ],
      "source": [
        "# Para testear tu función\n",
        "test_alpha(ordenar_palabras)"
      ]
    },
    {
      "cell_type": "markdown",
      "metadata": {
        "id": "eXQoh4NkTzM9"
      },
      "source": [
        "## 12. Escribe una función para verificar si una contraseña dada es fuerte (al menos 8 caracteres, al menos una minúscula, al menos una mayúscula, al menos un número y al menos un carácter especial). Debería devolver True si es fuerte y False si no lo es."
      ]
    },
    {
      "cell_type": "code",
      "execution_count": 25,
      "metadata": {
        "id": "L9PJKzQPTzM-"
      },
      "outputs": [],
      "source": [
        "def es_contraseña_fuerte(contrasena):\n",
        "    # Verificar si la longitud es al menos 8 caracteres\n",
        "    if len(contrasena) < 8:\n",
        "        return False\n",
        "\n",
        "    # Inicializar las banderas para cada tipo de carácter\n",
        "    tiene_minuscula = False\n",
        "    tiene_mayuscula = False\n",
        "    tiene_numero = False\n",
        "    tiene_caracter_especial = False\n",
        "\n",
        "    # Definir los caracteres especiales\n",
        "    caracteres_especiales = string.punctuation\n",
        "\n",
        "    # Recorrer la contraseña y verificar los diferentes criterios\n",
        "    for char in contrasena:\n",
        "        if char.islower():\n",
        "            tiene_minuscula = True\n",
        "        elif char.isupper():\n",
        "            tiene_mayuscula = True\n",
        "        elif char.isdigit():\n",
        "            tiene_numero = True\n",
        "        elif char in caracteres_especiales:\n",
        "            tiene_caracter_especial = True\n",
        "\n",
        "    # Verificar si todos los criterios se cumplen\n",
        "    return tiene_minuscula and tiene_mayuscula and tiene_numero and tiene_caracter_especial"
      ]
    },
    {
      "cell_type": "code",
      "execution_count": 26,
      "metadata": {
        "colab": {
          "base_uri": "https://localhost:8080/",
          "height": 158
        },
        "id": "sjVFinhZTzNB",
        "outputId": "27489f97-4e77-4ef2-be25-0680fa2db568"
      },
      "outputs": [
        {
          "output_type": "error",
          "ename": "NameError",
          "evalue": "name 'test_pass' is not defined",
          "traceback": [
            "\u001b[0;31m---------------------------------------------------------------------------\u001b[0m",
            "\u001b[0;31mNameError\u001b[0m                                 Traceback (most recent call last)",
            "\u001b[0;32m<ipython-input-26-026eb2384fd0>\u001b[0m in \u001b[0;36m<cell line: 0>\u001b[0;34m()\u001b[0m\n\u001b[1;32m      1\u001b[0m \u001b[0;31m# Para testear tu función\u001b[0m\u001b[0;34m\u001b[0m\u001b[0;34m\u001b[0m\u001b[0m\n\u001b[0;32m----> 2\u001b[0;31m \u001b[0mtest_pass\u001b[0m\u001b[0;34m(\u001b[0m\u001b[0mes_contraseña_fuerte\u001b[0m\u001b[0;34m)\u001b[0m\u001b[0;34m\u001b[0m\u001b[0;34m\u001b[0m\u001b[0m\n\u001b[0m",
            "\u001b[0;31mNameError\u001b[0m: name 'test_pass' is not defined"
          ]
        }
      ],
      "source": [
        "# Para testear tu función\n",
        "test_pass(es_contraseña_fuerte)"
      ]
    }
  ],
  "metadata": {
    "kernelspec": {
      "display_name": "Python 3 (ipykernel)",
      "language": "python",
      "name": "python3"
    },
    "language_info": {
      "codemirror_mode": {
        "name": "ipython",
        "version": 3
      },
      "file_extension": ".py",
      "mimetype": "text/x-python",
      "name": "python",
      "nbconvert_exporter": "python",
      "pygments_lexer": "ipython3",
      "version": "3.9.13"
    },
    "vscode": {
      "interpreter": {
        "hash": "aee8b7b246df8f9039afb4144a1f6fd8d2ca17a180786b69acc140d282b71a49"
      }
    },
    "colab": {
      "provenance": []
    }
  },
  "nbformat": 4,
  "nbformat_minor": 0
}